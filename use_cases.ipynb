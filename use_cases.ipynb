{
 "cells": [
  {
   "cell_type": "code",
   "execution_count": null,
   "metadata": {},
   "outputs": [],
   "source": [
    "#now whenever we add or deleted files , we want to commit/sync changes these are basi ccommnds we will do \n",
    "# \n",
    "# 1. git clone url\n",
    "# 2. ur chanegs to files add or delete \n",
    "# 3. git add .\n",
    "# 4. git commit -m \"updated\"\n",
    "# 5. git push origin main "
   ]
  }
 ],
 "metadata": {
  "language_info": {
   "name": "python"
  }
 },
 "nbformat": 4,
 "nbformat_minor": 2
}
