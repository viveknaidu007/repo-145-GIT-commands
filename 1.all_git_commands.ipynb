{
 "cells": [
  {
   "cell_type": "code",
   "execution_count": null,
   "metadata": {},
   "outputs": [],
   "source": [
    "\"\"\"Basic Git Commands\n",
    "\n",
    "    git init\n",
    "    git clone <repository-url>\n",
    "    git add <file>\n",
    "    git add .\n",
    "    git commit -m \"commit message\"\n",
    "    git status\n",
    "    git log\n",
    "    git show\n",
    "    git diff\n",
    "    git branch\n",
    "    git branch <branch-name>\n",
    "    git checkout <branch-name>\n",
    "    git checkout -b <new-branch-name>\n",
    "    git merge <branch-name>\n",
    "    git pull\n",
    "    git push\n",
    "    git remote\n",
    "    git remote add <name> <url>\n",
    "    git fetch\n",
    "    git rebase <branch-name>\n",
    "    git stash\n",
    "    git stash save \"message\"\n",
    "    git stash apply\n",
    "    git stash pop\n",
    "    git stash list\n",
    "    git stash drop\n",
    "    \n",
    "    \"\"\""
   ]
  },
  {
   "cell_type": "code",
   "execution_count": null,
   "metadata": {},
   "outputs": [],
   "source": [
    "\"\"\"Branch and Tag Management\n",
    "\n",
    "    git branch -d <branch-name>\n",
    "    git branch -D <branch-name>\n",
    "    git tag <tag-name>\n",
    "    git tag -d <tag-name>\n",
    "    git push --tags\"\"\""
   ]
  },
  {
   "cell_type": "code",
   "execution_count": null,
   "metadata": {},
   "outputs": [],
   "source": [
    "\"\"\"Resetting and Reverting\n",
    "\n",
    "    git reset <file>\n",
    "    git reset --hard\n",
    "    git reset --soft HEAD~1\n",
    "    git revert <commit>\n",
    "    git clean -f\"\"\""
   ]
  },
  {
   "cell_type": "code",
   "execution_count": null,
   "metadata": {},
   "outputs": [],
   "source": [
    "\"\"\"Configuration\n",
    "\n",
    "    git config --global user.name \"name\"\n",
    "    git config --global user.email \"email\"\n",
    "    git config --list\"\"\""
   ]
  },
  {
   "cell_type": "code",
   "execution_count": null,
   "metadata": {},
   "outputs": [],
   "source": [
    "\"\"\"Ignoring Files\n",
    "\n",
    "    git rm --cached <file>\n",
    "    git rm -r --cached .\"\"\""
   ]
  },
  {
   "cell_type": "code",
   "execution_count": null,
   "metadata": {},
   "outputs": [],
   "source": [
    "\"\"\"Submodules\n",
    "\n",
    "    git submodule add <repository-url>\n",
    "    git submodule update\n",
    "    git submodule init\n",
    "    git submodule foreach git pull origin master\"\"\""
   ]
  },
  {
   "cell_type": "code",
   "execution_count": null,
   "metadata": {},
   "outputs": [],
   "source": [
    "\"\"\"Working with Diffs\n",
    "\n",
    "    git diff <branch1> <branch2>\n",
    "    git diff --staged\n",
    "    git diff --cached\"\"\""
   ]
  },
  {
   "cell_type": "code",
   "execution_count": null,
   "metadata": {},
   "outputs": [],
   "source": [
    "\"\"\"Viewing History\n",
    "\n",
    "    git log --oneline\n",
    "    git log --graph\n",
    "    git log -p\n",
    "    git log --stat\"\"\""
   ]
  },
  {
   "cell_type": "code",
   "execution_count": null,
   "metadata": {},
   "outputs": [],
   "source": [
    "\"\"\"Cherry-picking\n",
    "\n",
    "    git cherry-pick <commit>\n",
    "\n",
    "\"\"\""
   ]
  },
  {
   "cell_type": "code",
   "execution_count": null,
   "metadata": {},
   "outputs": [],
   "source": [
    "\"\"\"Rebasing\n",
    "\n",
    "    git rebase -i HEAD~n\n",
    "    git rebase --continue\n",
    "    git rebase --abort\"\"\""
   ]
  },
  {
   "cell_type": "code",
   "execution_count": null,
   "metadata": {},
   "outputs": [],
   "source": [
    "\"\"\"Interactive Commands\n",
    "\n",
    "    git commit --amend\n",
    "    git add -p\n",
    "    git cherry\"\"\""
   ]
  },
  {
   "cell_type": "code",
   "execution_count": null,
   "metadata": {},
   "outputs": [],
   "source": [
    "\"\"\"Undoing Changes\n",
    "\n",
    "    git checkout -- <file>\n",
    "    git restore <file>\n",
    "    git restore --staged <file>\"\"\""
   ]
  }
 ],
 "metadata": {
  "language_info": {
   "name": "python"
  }
 },
 "nbformat": 4,
 "nbformat_minor": 2
}
